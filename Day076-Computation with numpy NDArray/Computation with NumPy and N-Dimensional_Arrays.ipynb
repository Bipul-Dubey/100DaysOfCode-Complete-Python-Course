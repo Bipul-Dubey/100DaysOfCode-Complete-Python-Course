{
 "cells": [
  {
   "cell_type": "markdown",
   "metadata": {
    "id": "t72p7Wvp8fKU"
   },
   "source": [
    "# Introduction\n",
    "\n",
    "In this notebook we'll learn how to use NumPy to work with numerical data. \n",
    "\n",
    "<img src=\"https://i.imgur.com/dZ1XE9o.png\" width=400>"
   ]
  },
  {
   "cell_type": "markdown",
   "metadata": {
    "id": "3j24xcmN8s1a"
   },
   "source": [
    "# Import Statements"
   ]
  },
  {
   "cell_type": "code",
   "execution_count": 1,
   "metadata": {
    "id": "b9YJCGC_8mhB"
   },
   "outputs": [],
   "source": [
    "import numpy as np\n",
    "\n",
    "import matplotlib.pyplot as plt\n",
    "from scipy import misc # contains an image of a racoon!\n",
    "from PIL import Image # for reading image files"
   ]
  },
  {
   "cell_type": "markdown",
   "metadata": {
    "id": "8vsW1z6o9RWD"
   },
   "source": [
    "# Understanding NumPy's ndarray\n",
    "\n",
    "NumPy's most amazing feature is the **powerful** ndarray.\n",
    "\n",
    "<img src=\"https://i.imgur.com/1IUqnxX.png\" width=200>"
   ]
  },
  {
   "cell_type": "markdown",
   "metadata": {
    "id": "d5g_jUKBAILK"
   },
   "source": [
    "#### 1-Dimensional Arrays (Vectors)"
   ]
  },
  {
   "cell_type": "code",
   "execution_count": 2,
   "metadata": {
    "id": "ITaA6vmejMNF"
   },
   "outputs": [
    {
     "data": {
      "text/plain": [
       "array([1, 2, 3, 4, 5])"
      ]
     },
     "execution_count": 2,
     "metadata": {},
     "output_type": "execute_result"
    }
   ],
   "source": [
    "# create 1D array\n",
    "array_1d=np.array([1,2,3,4,5])\n",
    "array_1d"
   ]
  },
  {
   "cell_type": "code",
   "execution_count": 3,
   "metadata": {
    "id": "Tq5KrExnjNn0"
   },
   "outputs": [
    {
     "data": {
      "text/plain": [
       "(5,)"
      ]
     },
     "execution_count": 3,
     "metadata": {},
     "output_type": "execute_result"
    }
   ],
   "source": [
    "# show rows and columns\n",
    "array_1d.shape"
   ]
  },
  {
   "cell_type": "code",
   "execution_count": 4,
   "metadata": {},
   "outputs": [
    {
     "data": {
      "text/plain": [
       "4"
      ]
     },
     "execution_count": 4,
     "metadata": {},
     "output_type": "execute_result"
    }
   ],
   "source": [
    "# accessing elements of 1D\n",
    "array_1d[3]"
   ]
  },
  {
   "cell_type": "code",
   "execution_count": 5,
   "metadata": {},
   "outputs": [
    {
     "data": {
      "text/plain": [
       "1"
      ]
     },
     "execution_count": 5,
     "metadata": {},
     "output_type": "execute_result"
    }
   ],
   "source": [
    "# find dimension of array\n",
    "array_1d.ndim"
   ]
  },
  {
   "cell_type": "markdown",
   "metadata": {
    "id": "nZ8D4yr8ALzn"
   },
   "source": [
    "#### 2-Dimensional Arrays (Matrices)"
   ]
  },
  {
   "cell_type": "code",
   "execution_count": 6,
   "metadata": {
    "id": "97iTilPTAGpm"
   },
   "outputs": [],
   "source": [
    "array_2d = np.array([[1, 2, 3, 9], \n",
    "                     [5, 6, 7, 8]])"
   ]
  },
  {
   "cell_type": "code",
   "execution_count": 7,
   "metadata": {
    "id": "885B89_IjFWr"
   },
   "outputs": [
    {
     "data": {
      "text/plain": [
       "(2, 4)"
      ]
     },
     "execution_count": 7,
     "metadata": {},
     "output_type": "execute_result"
    }
   ],
   "source": [
    "array_2d.shape"
   ]
  },
  {
   "cell_type": "code",
   "execution_count": 8,
   "metadata": {},
   "outputs": [
    {
     "data": {
      "text/plain": [
       "2"
      ]
     },
     "execution_count": 8,
     "metadata": {},
     "output_type": "execute_result"
    }
   ],
   "source": [
    "array_2d.ndim"
   ]
  },
  {
   "cell_type": "code",
   "execution_count": 9,
   "metadata": {},
   "outputs": [
    {
     "data": {
      "text/plain": [
       "7"
      ]
     },
     "execution_count": 9,
     "metadata": {},
     "output_type": "execute_result"
    }
   ],
   "source": [
    "# access elements of 2d array\n",
    "array_2d[1][2] # access 2nd row 3rd columns element "
   ]
  },
  {
   "cell_type": "markdown",
   "metadata": {
    "id": "IxEF8DdRBHn5"
   },
   "source": [
    "#### N-Dimensional Arrays (Tensors)\n",
    "\n",
    "**Challenge**: \n",
    "* How many dimensions does the array below have? \n",
    "* What is its shape (i.e., how many elements are along each axis)?\n",
    "* Try to access the value `18` in the last line of code.\n",
    "* Try to retrieve a 1 dimensional vector with the values `[97, 0, 27, 18]`\n",
    "* Try to retrieve a (3,2) matrix with the values `[[ 0,  4], [ 7,  5], [ 5, 97]]`\n",
    "\n",
    "*Hint*: You can use the `:` operator just as with Python Lists."
   ]
  },
  {
   "cell_type": "code",
   "execution_count": 10,
   "metadata": {
    "id": "2ROMzYaxAgXC"
   },
   "outputs": [],
   "source": [
    "mystery_array = np.array([[[0, 1, 2, 3],\n",
    "                           [4, 5, 6, 7]],\n",
    "                        \n",
    "                         [[7, 86, 6, 98],\n",
    "                          [5, 1, 0, 4]],\n",
    "                          \n",
    "                          [[5, 36, 32, 48],\n",
    "                           [97, 0, 27, 18]]])\n",
    "\n",
    "# Note all the square brackets!"
   ]
  },
  {
   "cell_type": "code",
   "execution_count": 11,
   "metadata": {
    "id": "s3-I3tYSjC1R"
   },
   "outputs": [
    {
     "data": {
      "text/plain": [
       "3"
      ]
     },
     "execution_count": 11,
     "metadata": {},
     "output_type": "execute_result"
    }
   ],
   "source": [
    "mystery_array.ndim"
   ]
  },
  {
   "cell_type": "code",
   "execution_count": 12,
   "metadata": {
    "id": "AvUs5gRPjDIT"
   },
   "outputs": [
    {
     "data": {
      "text/plain": [
       "(3, 2, 4)"
      ]
     },
     "execution_count": 12,
     "metadata": {},
     "output_type": "execute_result"
    }
   ],
   "source": [
    "mystery_array.shape"
   ]
  },
  {
   "cell_type": "code",
   "execution_count": 13,
   "metadata": {
    "id": "G3Ek8nDTjCvn"
   },
   "outputs": [
    {
     "data": {
      "text/plain": [
       "18"
      ]
     },
     "execution_count": 13,
     "metadata": {},
     "output_type": "execute_result"
    }
   ],
   "source": [
    "mystery_array[2][1][3]\n"
   ]
  },
  {
   "cell_type": "code",
   "execution_count": 14,
   "metadata": {},
   "outputs": [
    {
     "data": {
      "text/plain": [
       "18"
      ]
     },
     "execution_count": 14,
     "metadata": {},
     "output_type": "execute_result"
    }
   ],
   "source": [
    "# method2\n",
    "mystery_array[2,1,3]"
   ]
  },
  {
   "cell_type": "code",
   "execution_count": 15,
   "metadata": {
    "id": "1SeRB6MejAbc"
   },
   "outputs": [
    {
     "data": {
      "text/plain": [
       "array([97,  0, 27, 18])"
      ]
     },
     "execution_count": 15,
     "metadata": {},
     "output_type": "execute_result"
    }
   ],
   "source": [
    "mystery_array[2][1][:]"
   ]
  },
  {
   "cell_type": "code",
   "execution_count": 16,
   "metadata": {},
   "outputs": [
    {
     "data": {
      "text/plain": [
       "array([97,  0, 27, 18])"
      ]
     },
     "execution_count": 16,
     "metadata": {},
     "output_type": "execute_result"
    }
   ],
   "source": [
    "# method2\n",
    "mystery_array[2,1,]"
   ]
  },
  {
   "cell_type": "code",
   "execution_count": 17,
   "metadata": {},
   "outputs": [
    {
     "data": {
      "text/plain": [
       "array([[ 0,  4],\n",
       "       [ 7,  5],\n",
       "       [ 5, 97]])"
      ]
     },
     "execution_count": 17,
     "metadata": {},
     "output_type": "execute_result"
    }
   ],
   "source": [
    "# method2\n",
    "mystery_array[:,:,0]"
   ]
  },
  {
   "cell_type": "markdown",
   "metadata": {
    "id": "xTclC9QMWaL3"
   },
   "source": [
    "# NumPy Mini-Challenges"
   ]
  },
  {
   "cell_type": "markdown",
   "metadata": {
    "id": "D5jAqudtWeTN"
   },
   "source": [
    "#### **Challenge 1**: Use [`.arange()`](https://numpy.org/devdocs/reference/generated/numpy.arange.html)to createa a vector `a` with values ranging from 10 to 29. You should get this:\n",
    "\n",
    "`print(a)`\n",
    "\n",
    "`[10 11 12 13 14 15 16 17 18 19 20 21 22 23 24 25 26 27 28 29]`"
   ]
  },
  {
   "cell_type": "code",
   "execution_count": 18,
   "metadata": {
    "id": "1bxtrVjJi83g"
   },
   "outputs": [
    {
     "name": "stdout",
     "output_type": "stream",
     "text": [
      "[10 11 12 13 14 15 16 17 18 19 20 21 22 23 24 25 26 27 28 29]\n"
     ]
    }
   ],
   "source": [
    "a=np.arange(10,30)\n",
    "print(a)"
   ]
  },
  {
   "cell_type": "markdown",
   "metadata": {
    "id": "duI_CwC5XmF_"
   },
   "source": [
    "#### **Challenge 2**: Use Python slicing techniques on `a` to:\n",
    "* Create an array containing only the last 3 values of `a`\n",
    "* Create a subset with only the 4th, 5th, and 6th values\n",
    "* Create a subset of `a` containing all the values except for the first 12 (i.e., `[22, 23, 24, 25, 26, 27, 28, 29]`)\n",
    "* Create a subset that only contains the even numbers (i.e, every second number)"
   ]
  },
  {
   "cell_type": "code",
   "execution_count": 19,
   "metadata": {
    "id": "oR2l2HMGi6mS"
   },
   "outputs": [
    {
     "data": {
      "text/plain": [
       "array([27, 28, 29])"
      ]
     },
     "execution_count": 19,
     "metadata": {},
     "output_type": "execute_result"
    }
   ],
   "source": [
    "a[a.size-3:]"
   ]
  },
  {
   "cell_type": "code",
   "execution_count": 20,
   "metadata": {},
   "outputs": [
    {
     "data": {
      "text/plain": [
       "array([13, 14, 15])"
      ]
     },
     "execution_count": 20,
     "metadata": {},
     "output_type": "execute_result"
    }
   ],
   "source": [
    "a[3:6]"
   ]
  },
  {
   "cell_type": "code",
   "execution_count": 21,
   "metadata": {},
   "outputs": [
    {
     "data": {
      "text/plain": [
       "array([22, 23, 24, 25, 26, 27, 28, 29])"
      ]
     },
     "execution_count": 21,
     "metadata": {},
     "output_type": "execute_result"
    }
   ],
   "source": [
    "a[12:]"
   ]
  },
  {
   "cell_type": "markdown",
   "metadata": {
    "id": "G7UMQZjiYBjS"
   },
   "source": [
    "#### **Challenge 3**:Reverse the order of the values in `a`, so that the first element comes last:\n",
    "\n",
    "`[29, 28, 27, 26, 25, 24, 23, 22, 21, 20, 19, 18, 17, 16, 15, 14, 13,\n",
    "       12, 11, 10]`\n",
    "\n",
    "\n",
    "If you need a hint, you can check out this part of the [NumPy beginner's guide](\n",
    "https://numpy.org/devdocs/user/absolute_beginners.html#how-to-reverse-an-array)"
   ]
  },
  {
   "cell_type": "code",
   "execution_count": 22,
   "metadata": {
    "id": "nGmDLPK6i4Nk"
   },
   "outputs": [
    {
     "data": {
      "text/plain": [
       "array([29, 28, 27, 26, 25, 24, 23, 22, 21, 20, 19, 18, 17, 16, 15, 14, 13,\n",
       "       12, 11, 10])"
      ]
     },
     "execution_count": 22,
     "metadata": {},
     "output_type": "execute_result"
    }
   ],
   "source": [
    "a[::-1]"
   ]
  },
  {
   "cell_type": "code",
   "execution_count": 23,
   "metadata": {},
   "outputs": [
    {
     "data": {
      "text/plain": [
       "array([29, 28, 27, 26, 25, 24, 23, 22, 21, 20, 19, 18, 17, 16, 15, 14, 13,\n",
       "       12, 11, 10])"
      ]
     },
     "execution_count": 23,
     "metadata": {},
     "output_type": "execute_result"
    }
   ],
   "source": [
    "# second method to reverse\n",
    "np.flip(a)"
   ]
  },
  {
   "cell_type": "markdown",
   "metadata": {
    "id": "WBJJbWjKfULr"
   },
   "source": [
    "#### **Challenge 4**: Print out all the indices of the non-zero elements in this array: [6,0,9,0,0,5,0]"
   ]
  },
  {
   "cell_type": "code",
   "execution_count": 24,
   "metadata": {
    "id": "0J0gmKqsi25-"
   },
   "outputs": [],
   "source": [
    "ele=np.array([6,0,9,0,0,5,0])"
   ]
  },
  {
   "cell_type": "code",
   "execution_count": 25,
   "metadata": {},
   "outputs": [],
   "source": [
    "non_zero_indices=np.nonzero(ele)"
   ]
  },
  {
   "cell_type": "code",
   "execution_count": 26,
   "metadata": {},
   "outputs": [
    {
     "data": {
      "text/plain": [
       "(array([0, 2, 5], dtype=int64),)"
      ]
     },
     "execution_count": 26,
     "metadata": {},
     "output_type": "execute_result"
    }
   ],
   "source": [
    "non_zero_indices"
   ]
  },
  {
   "cell_type": "markdown",
   "metadata": {
    "id": "LxorfXnOffUw"
   },
   "source": [
    "#### **Challenge 5**: Use NumPy to generate a 3x3x3 array with random numbers\n",
    "\n",
    "Hint: Use the [`.random()` function](https://numpy.org/doc/stable/reference/random/index.html?highlight=random#module-numpy.random)"
   ]
  },
  {
   "cell_type": "code",
   "execution_count": 27,
   "metadata": {
    "id": "2gIg5UsYi1CC"
   },
   "outputs": [
    {
     "data": {
      "text/plain": [
       "array([[[0.36165312, 0.35030575, 0.6135376 ],\n",
       "        [0.39863653, 0.03101436, 0.72370203],\n",
       "        [0.57254376, 0.80560953, 0.98576613]],\n",
       "\n",
       "       [[0.08827488, 0.4846721 , 0.11082428],\n",
       "        [0.21154498, 0.32243598, 0.61853415],\n",
       "        [0.47138748, 0.30583925, 0.49289001]],\n",
       "\n",
       "       [[0.9318143 , 0.67209849, 0.56326807],\n",
       "        [0.81301284, 0.52180131, 0.00377955],\n",
       "        [0.99723427, 0.64985014, 0.11292259]]])"
      ]
     },
     "execution_count": 27,
     "metadata": {},
     "output_type": "execute_result"
    }
   ],
   "source": [
    "from numpy.random import random\n",
    "z=random((3,3,3))\n",
    "z"
   ]
  },
  {
   "cell_type": "code",
   "execution_count": 28,
   "metadata": {},
   "outputs": [
    {
     "data": {
      "text/plain": [
       "3"
      ]
     },
     "execution_count": 28,
     "metadata": {},
     "output_type": "execute_result"
    }
   ],
   "source": [
    "z.ndim"
   ]
  },
  {
   "cell_type": "code",
   "execution_count": 29,
   "metadata": {},
   "outputs": [
    {
     "data": {
      "text/plain": [
       "(3, 3, 3)"
      ]
     },
     "execution_count": 29,
     "metadata": {},
     "output_type": "execute_result"
    }
   ],
   "source": [
    "z.shape"
   ]
  },
  {
   "cell_type": "markdown",
   "metadata": {
    "id": "ps1d14z7ovv1"
   },
   "source": [
    "#### **Challenge 6**: Use [`.linspace()`](https://numpy.org/doc/stable/reference/generated/numpy.linspace.html) to create a vector `x` of size 9 with values spaced out evenly between 0 to 100 (both included)."
   ]
  },
  {
   "cell_type": "code",
   "execution_count": 30,
   "metadata": {},
   "outputs": [
    {
     "name": "stdout",
     "output_type": "stream",
     "text": [
      "[  0.   12.5  25.   37.5  50.   62.5  75.   87.5 100. ]\n"
     ]
    },
    {
     "data": {
      "text/plain": [
       "(9,)"
      ]
     },
     "execution_count": 30,
     "metadata": {},
     "output_type": "execute_result"
    }
   ],
   "source": [
    "x=np.linspace(0,100,9)\n",
    "print(x)\n",
    "x.shape"
   ]
  },
  {
   "cell_type": "markdown",
   "metadata": {
    "id": "GCSPVde3f0kE"
   },
   "source": [
    "#### **Challenge 7**: Use [`.linspace()`](https://numpy.org/doc/stable/reference/generated/numpy.linspace.html) to create another vector `y` of size 9 with values between -3 to 3 (both included). Then plot `x` and `y` on a line chart using Matplotlib."
   ]
  },
  {
   "cell_type": "code",
   "execution_count": 31,
   "metadata": {
    "id": "cIu8HlJFiyF9"
   },
   "outputs": [
    {
     "data": {
      "text/plain": [
       "[<matplotlib.lines.Line2D at 0x277c3e02110>]"
      ]
     },
     "execution_count": 31,
     "metadata": {},
     "output_type": "execute_result"
    },
    {
     "data": {
      "image/png": "[encoded data removed]",
      "text/plain": [
       "<Figure size 432x288 with 1 Axes>"
      ]
     },
     "metadata": {
      "needs_background": "light"
     },
     "output_type": "display_data"
    }
   ],
   "source": [
    "y=np.linspace(-3,3,9)\n",
    "plt.plot(x,y)\n"
   ]
  },
  {
   "cell_type": "markdown",
   "metadata": {
    "id": "Wt5aIGQLlz5i"
   },
   "source": [
    "#### **Challenge 8**: Use NumPy to generate an array called `noise` with shape 128x128x3 that has random values. Then use Matplotlib's [`.imshow()`](https://matplotlib.org/3.1.1/api/_as_gen/matplotlib.pyplot.imshow.html) to display the array as an image. "
   ]
  },
  {
   "cell_type": "code",
   "execution_count": null,
   "metadata": {
    "id": "_LSYx_fliwrw"
   },
   "outputs": [],
   "source": []
  },
  {
   "cell_type": "markdown",
   "metadata": {
    "id": "-O2acBSNX4o8"
   },
   "source": [
    "# Linear Algebra with Vectors"
   ]
  },
  {
   "cell_type": "code",
   "execution_count": 32,
   "metadata": {
    "id": "GbSwkEwHX9lb"
   },
   "outputs": [],
   "source": [
    "v1 = np.array([4, 5, 2, 7])\n",
    "v2 = np.array([2, 1, 3, 3])"
   ]
  },
  {
   "cell_type": "code",
   "execution_count": 33,
   "metadata": {},
   "outputs": [
    {
     "data": {
      "text/plain": [
       "array([ 6,  6,  5, 10])"
      ]
     },
     "execution_count": 33,
     "metadata": {},
     "output_type": "execute_result"
    }
   ],
   "source": [
    "v1+v2"
   ]
  },
  {
   "cell_type": "code",
   "execution_count": 34,
   "metadata": {},
   "outputs": [
    {
     "data": {
      "text/plain": [
       "array([ 8,  5,  6, 21])"
      ]
     },
     "execution_count": 34,
     "metadata": {},
     "output_type": "execute_result"
    }
   ],
   "source": [
    "v1*v2"
   ]
  },
  {
   "cell_type": "code",
   "execution_count": 35,
   "metadata": {
    "id": "vPa5kK-6fz1v"
   },
   "outputs": [],
   "source": [
    "# Python Lists vs ndarrays\n",
    "list1 = [4, 5, 2, 7]\n",
    "list2 = [2, 1, 3, 3]"
   ]
  },
  {
   "cell_type": "code",
   "execution_count": 36,
   "metadata": {},
   "outputs": [
    {
     "data": {
      "text/plain": [
       "[4, 5, 2, 7, 2, 1, 3, 3]"
      ]
     },
     "execution_count": 36,
     "metadata": {},
     "output_type": "execute_result"
    }
   ],
   "source": [
    "list1+list2"
   ]
  },
  {
   "cell_type": "code",
   "execution_count": 37,
   "metadata": {
    "id": "DfPCOJqBiugK"
   },
   "outputs": [
    {
     "ename": "TypeError",
     "evalue": "can't multiply sequence by non-int of type 'list'",
     "output_type": "error",
     "traceback": [
      "\u001b[1;31m---------------------------------------------------------------------------\u001b[0m",
      "\u001b[1;31mTypeError\u001b[0m                                 Traceback (most recent call last)",
      "Input \u001b[1;32mIn [37]\u001b[0m, in \u001b[0;36m<module>\u001b[1;34m\u001b[0m\n\u001b[1;32m----> 1\u001b[0m \u001b[43mlist1\u001b[49m\u001b[38;5;241;43m*\u001b[39;49m\u001b[43mlist2\u001b[49m\n",
      "\u001b[1;31mTypeError\u001b[0m: can't multiply sequence by non-int of type 'list'"
     ]
    }
   ],
   "source": [
    "list1*list2    # this give error"
   ]
  },
  {
   "cell_type": "markdown",
   "metadata": {
    "id": "5lOo-ucJUhGx"
   },
   "source": [
    "# Broadcasting and Scalars\n"
   ]
  },
  {
   "cell_type": "code",
   "execution_count": null,
   "metadata": {
    "id": "E_ooq80ziprz"
   },
   "outputs": [],
   "source": [
    "array_2d = np.array([[1, 2, 3, 4], \n",
    "                     [5, 6, 7, 8]])"
   ]
  },
  {
   "cell_type": "code",
   "execution_count": null,
   "metadata": {
    "id": "gya2xlxxipoi"
   },
   "outputs": [],
   "source": [
    "array_2d+10"
   ]
  },
  {
   "cell_type": "code",
   "execution_count": null,
   "metadata": {
    "id": "Lhmedp3Qil5I"
   },
   "outputs": [],
   "source": [
    "array_2d*5"
   ]
  },
  {
   "cell_type": "markdown",
   "metadata": {
    "id": "hVQLR4KamAFi"
   },
   "source": [
    "# Matrix Multiplication with @ and .matmul()\n",
    "\n",
    "<img src=https://i.imgur.com/LCdhmi8.png width=350>"
   ]
  },
  {
   "cell_type": "code",
   "execution_count": null,
   "metadata": {
    "colab": {
     "base_uri": "https://localhost:8080/",
     "height": 68
    },
    "id": "8oeSWT7fk7u5",
    "outputId": "dff8c9eb-23ba-41d6-c9e6-c62158c9f178"
   },
   "outputs": [],
   "source": [
    "a1 = np.array([[1, 3],\n",
    "               [0, 1],\n",
    "               [6, 2],\n",
    "               [9, 7]])\n",
    "\n",
    "b1 = np.array([[4, 1, 3],\n",
    "               [5, 8, 5]])\n",
    "\n",
    "print(f'{a1.shape}: a has {a1.shape[0]} rows and {a1.shape[1]} columns.')\n",
    "print(f'{b1.shape}: b has {b1.shape[0]} rows and {b1.shape[1]} columns.')\n",
    "print('Dimensions of result: (4x2)*(2x3)=(4x3)')"
   ]
  },
  {
   "cell_type": "markdown",
   "metadata": {
    "id": "LP2b396-n9wS"
   },
   "source": [
    "**Challenge**: Let's multiply `a1` with `b1`. Looking at the wikipedia example above, work out the values for c12 and c33 on paper. Then use the [`.matmul()`](https://numpy.org/doc/stable/reference/generated/numpy.matmul.html) function or the `@` operator to check your work. "
   ]
  },
  {
   "cell_type": "code",
   "execution_count": null,
   "metadata": {
    "id": "a68V7SFpieg2"
   },
   "outputs": [],
   "source": [
    "c=np.matmul(a1,b1)\n",
    "print(f'matrix c has {c.shape[0]} rows and {c.shape[1]} columns')\n",
    "c"
   ]
  },
  {
   "cell_type": "code",
   "execution_count": null,
   "metadata": {
    "id": "JvORXjfJiebH"
   },
   "outputs": [],
   "source": [
    "a1@b1"
   ]
  },
  {
   "cell_type": "markdown",
   "metadata": {
    "id": "n8uiDqlb2pTO"
   },
   "source": [
    "# Manipulating Images as ndarrays\n"
   ]
  },
  {
   "cell_type": "code",
   "execution_count": null,
   "metadata": {
    "id": "P1TS4QSqicaB"
   },
   "outputs": [],
   "source": [
    "img=misc.face()"
   ]
  },
  {
   "cell_type": "code",
   "execution_count": null,
   "metadata": {
    "id": "K-jub5UDicVw"
   },
   "outputs": [],
   "source": [
    "plt.imshow(img)"
   ]
  },
  {
   "cell_type": "markdown",
   "metadata": {
    "id": "zCyCD3ia4J8A"
   },
   "source": [
    "**Challenge**: What is the data type of `img`? Also, what is the shape of `img` and how many dimensions does it have? What is the resolution of the image?"
   ]
  },
  {
   "cell_type": "code",
   "execution_count": null,
   "metadata": {
    "id": "ElXYL8OZiZIu"
   },
   "outputs": [],
   "source": [
    "type(img)"
   ]
  },
  {
   "cell_type": "code",
   "execution_count": null,
   "metadata": {
    "id": "xD7fwq2ViZWC"
   },
   "outputs": [],
   "source": [
    "img.shape"
   ]
  },
  {
   "cell_type": "code",
   "execution_count": null,
   "metadata": {
    "id": "RvaHBCj8iZBp"
   },
   "outputs": [],
   "source": [
    "img.ndim"
   ]
  },
  {
   "cell_type": "markdown",
   "metadata": {
    "id": "niXLlWOQ4Z8K"
   },
   "source": [
    "**Challenge**: Convert the image to black and white. The values in our `img` range from 0 to 255. \n",
    "* Divide all the values by 255 to convert them to sRGB, where all the values are between 0 and 1. \n",
    "* Next, multiply the sRGB array by the `grey_vals` to convert the image to grey scale. \n",
    "* Finally use Matplotlib's [`.imshow()`](https://matplotlib.org/3.1.1/api/_as_gen/matplotlib.pyplot.imshow.html) together with the colormap parameter set to gray `cmap=gray` to look at the results. "
   ]
  },
  {
   "cell_type": "code",
   "execution_count": null,
   "metadata": {
    "id": "bkrNo4jI6e95"
   },
   "outputs": [],
   "source": [
    "grey_vals = np.array([0.2126, 0.7152, 0.0722])"
   ]
  },
  {
   "cell_type": "code",
   "execution_count": null,
   "metadata": {
    "id": "xxsdG1eAiV_X"
   },
   "outputs": [],
   "source": [
    "sRGB=img/255"
   ]
  },
  {
   "cell_type": "code",
   "execution_count": null,
   "metadata": {
    "id": "zaRdnvu3iVpt"
   },
   "outputs": [],
   "source": [
    "img_gray=sRGB@grey_vals"
   ]
  },
  {
   "cell_type": "code",
   "execution_count": null,
   "metadata": {},
   "outputs": [],
   "source": [
    "plt.imshow(img_gray,cmap='gray')"
   ]
  },
  {
   "cell_type": "markdown",
   "metadata": {
    "id": "Gc32f7V77Myv"
   },
   "source": [
    "**Challenge**: Can you manipulate the images by doing some operations on the underlying ndarrays? See if you can change the values in the ndarray so that:\n",
    "\n",
    "1) You flip the grayscale image upside down\n",
    "\n",
    "<img src=https://i.imgur.com/r36CigD.png>\n",
    "\n",
    "2) Rotate the colour image\n",
    "\n",
    "<img src=https://i.imgur.com/IiNylco.png>\n",
    "\n",
    "3) Invert (i.e., solarize) the colour image. To do this you need to converting all the pixels to their \"opposite\" value, so black (0) becomes white (255).\n",
    "\n",
    "<img src=https://i.imgur.com/cfFbuex.png>"
   ]
  },
  {
   "cell_type": "markdown",
   "metadata": {
    "id": "O3B8TLSEXZtD"
   },
   "source": [
    "#### Challenge Solutions"
   ]
  },
  {
   "cell_type": "code",
   "execution_count": null,
   "metadata": {
    "id": "vW0Aug3MiRgH"
   },
   "outputs": [],
   "source": [
    "plt.imshow(np.flip(img_gray),cmap='gray')"
   ]
  },
  {
   "cell_type": "code",
   "execution_count": null,
   "metadata": {
    "id": "_caHTOZ3jcRA"
   },
   "outputs": [],
   "source": [
    "plt.imshow(np.rot90(img))"
   ]
  },
  {
   "cell_type": "code",
   "execution_count": null,
   "metadata": {},
   "outputs": [],
   "source": [
    "solar_img=255-img\n",
    "plt.imshow(solar_img)"
   ]
  },
  {
   "cell_type": "markdown",
   "metadata": {
    "id": "4ymZ21DKbK9Q"
   },
   "source": [
    "# Use your Own Image!"
   ]
  },
  {
   "cell_type": "code",
   "execution_count": null,
   "metadata": {
    "id": "CXZMwrxuV1q0"
   },
   "outputs": [],
   "source": [
    "file_name = 'yummy_macarons.jpg'"
   ]
  },
  {
   "cell_type": "code",
   "execution_count": null,
   "metadata": {
    "id": "kHkGg_T8jbdD"
   },
   "outputs": [],
   "source": [
    "my_img=Image.open(file_name)\n",
    "my_img_array=np.array(my_img)"
   ]
  },
  {
   "cell_type": "code",
   "execution_count": null,
   "metadata": {},
   "outputs": [],
   "source": [
    "my_img_array.ndim"
   ]
  },
  {
   "cell_type": "code",
   "execution_count": null,
   "metadata": {},
   "outputs": [],
   "source": [
    "my_img_array.shape"
   ]
  },
  {
   "cell_type": "code",
   "execution_count": null,
   "metadata": {},
   "outputs": [],
   "source": [
    "plt.imshow(my_img_array)"
   ]
  },
  {
   "cell_type": "code",
   "execution_count": null,
   "metadata": {},
   "outputs": [],
   "source": [
    "myRGB=my_img_array/255\n",
    "my_img_gray=myRGB@grey_vals"
   ]
  },
  {
   "cell_type": "code",
   "execution_count": null,
   "metadata": {},
   "outputs": [],
   "source": [
    "plt.imshow(my_img_gray)"
   ]
  },
  {
   "cell_type": "code",
   "execution_count": null,
   "metadata": {},
   "outputs": [],
   "source": [
    "plt.imshow(255-my_img_array)"
   ]
  },
  {
   "cell_type": "code",
   "execution_count": null,
   "metadata": {},
   "outputs": [],
   "source": []
  }
 ],
 "metadata": {
  "colab": {
   "name": "Computation with NumPy and N-Dimensional Arrays (start).ipynb",
   "provenance": [],
   "toc_visible": true
  },
  "kernelspec": {
   "display_name": "Python 3 (ipykernel)",
   "language": "python",
   "name": "python3"
  },
  "language_info": {
   "codemirror_mode": {
    "name": "ipython",
    "version": 3
   },
   "file_extension": ".py",
   "mimetype": "text/x-python",
   "name": "python",
   "nbconvert_exporter": "python",
   "pygments_lexer": "ipython3",
   "version": "3.10.0"
  }
 },
 "nbformat": 4,
 "nbformat_minor": 1
}
